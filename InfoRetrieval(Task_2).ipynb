{
  "nbformat": 4,
  "nbformat_minor": 0,
  "metadata": {
    "colab": {
      "provenance": []
    },
    "kernelspec": {
      "name": "python3",
      "display_name": "Python 3"
    },
    "language_info": {
      "name": "python"
    }
  },
  "cells": [
    {
      "cell_type": "code",
      "source": [
        "#7071CEM Coursework Task 2\n",
        "#Document Clustering System using K-Means"
      ],
      "metadata": {
        "id": "9jwNPWn2YPFB"
      },
      "execution_count": null,
      "outputs": []
    },
    {
      "cell_type": "code",
      "execution_count": null,
      "metadata": {
        "id": "YYJxR7E295C1"
      },
      "outputs": [],
      "source": [
        "docx =[\"World cup finals\",\n",
        "       \"Reading comeback seals draw with rivals Brighton\",\n",
        "       \"Nuggets beat fellow NBA title hopefuls Bucks\",\n",
        "       \"England score 10 tries in win over Scotland\",\n",
        "       \"Wales open with bonus-point win over Ireland\",\n",
        "       \"Okolie labours to points win over Light\",\n",
        "       \"Cardiff City Women win Genero Adran Premier\",\n",
        "       \"We will not forgive, or forget six sporting lives lost in Ukraine\",\n",
        "       \"WSL talking points Women's Football Weekend\",\n",
        "       \"Champion Bagnaia wins first race of MotoGP season\",\n",
        "       \"Lionel Messi mania grips Argentina as World Cup celebrations continue\",\n",
        "       \"World Athletics tightens rules on transgender women athletes\",\n",
        "       \"NWSL players unhappy over FIFA video game likenesses and abilities\",\n",
        "       \"World Cup final How Argentina won penalty shootout\",\n",
        "       \"Manchester United is for sale, who could buy the world-famous club\"\n",
        "       \"The football match that gave some enjoyment to war-torn country\",\n",
        "       \"LeBron James’ legacy as the NBA’s all-time top scorer\",\n",
        "       \"Emiliano Martínez: The art of winning a penalty shootout\",\n",
        "       \"Lionel Messi and Alexia Putellas honored as best men’s and women’s football players Tennis\",\n",
        "       \"Meet the Black women pushing for equality in swimming\",\n",
        "       \"Lionel Messi and Cristiano Ronaldo score to reach historic landmarks\",\n",
        "       \"Brentford’s moneyball philosophy bests teams with bigger budgets\",\n",
        "       \"Lionel Messi passes 100 international goals with hat-trick against Curaçao\",\n",
        "       \"Police investigating after Rangers coach appears to headbutt Celtic Women’s head coach\",\n",
        "       \"Peru national team captain Pedro Gallese detained by Spanish police in Madrid ahead of international friendly\",\n",
        "       \"Cristiano Ronaldo marks two-goal performance with new celebration against Luxembourg\",\n",
        "       \"Sands United: The soccer club that’s tackling grief\",\n",
        "       \"School banned from sports after boycotting trans athlete\",\n",
        "       \"World Athletics bans transgender women from female events\",\n",
        "       \"Why Brazilian football is loved across the world\",\n",
        "       \"From weekend club to football academy\",\n",
        "       \"Football in the shadow of gang wars, drug abuse\",\n",
        "       \"Football is about inclusivity\",\n",
        "       \"Morocco joining Spain, Portugal in football’s 2030 World Cup bid\",\n",
        "       \"FIFA confirms expanded 2026 World Cup with record 104 matches\",\n",
        "       \"A guide to the US college basketball tournament\",\n",
        "       \"Kylian Mbappe becomes PSG’s record goal-scorer\",\n",
        "       \"Women drivers race to break Formula 1’s male monopoly\",\n",
        "       \"Cricket: Inaugural Women’s Premier League set to start in India\",\n",
        "       \"Messi, Putellas named FIFA’s Best for 2022\",\n",
        "       \"Manchester United win League Cup for first trophy in six years\",\n",
        "       \"Saudi Arabia sends first female team to global tennis event\",\n",
        "       \"India’s Sania Mirza bows out of tennis after shock loss in Dubai\",\n",
        "       \"With new football shirt, Irish club shows support for Palestine\",\n",
        "       \"Real Madrid beat Al-Hilal to win Club World Cup\",\n",
        "       \"Real Madrid beat Al Ahly 4-1 to reach Club World Cup final\",\n",
        "       \"Argentina, Chile, Paraguay, Uruguay make joint 2030 World Cup bid\",\n",
        "       \"LeBron James eyes history as NBA scoring record within reach\",\n",
        "       \"Pakistani cricket star Babar Azam named player of the year\",\n",
        "       \"Ronaldo, Messi roll back the years in nine-goal thriller\",\n",
        "       \"These articles are about soccer, football, tennis, golf and other international sports and sportstars\",\n",
        "       \"Weather for the Week Ahead\",\n",
        "       \"Rescue efforts under way after tornado devastates town\",\n",
        "       \"US storms set to continue\",\n",
        "       \"BBC Centenary 100 years of weather on the BBC\",\n",
        "       \"At least 26 dead after tornado-spawning storms roll through Southeast\",\n",
        "       \"Deadly tornado and severe storms sweep South\",\n",
        "       \"Fish fall from sky in odd weather event\",\n",
        "       \"Sydney smashes rainfall record as Australia braces for more floods\",\n",
        "       \"How to prepare for severe weather\",\n",
        "       \"How strong a blizzard's impact may be\",\n",
        "       \"Wildfires burn in Colorado and Texas\",\n",
        "       \"Desert snows in Saudi Arabia\",\n",
        "       \"Lightning in the cataclysmic Tonga volcano eruption shattered all records\",\n",
        "       \"Extreme weather has cost the US more than one trillion in the past seven years, feds report\",\n",
        "       \"Winter storm threatens millions across US\",\n",
        "       \"Above-average hurricane season forecast with several major hurricanes\",\n",
        "       \"Hurricanes are becoming more dangerous. Here's why\",\n",
        "       \"Scientists in the US are flying planes into clouds to make it snow more\",\n",
        "       \"Atmospheric river of moisture will trigger storms and tornadoes this week\",\n",
        "       \"An extremely dangerous tornado strikes Georgia as 20 million Southerners are at risk of treacherous weather Sunday\",\n",
        "       \"England not prepared for dangers of climate change\",\n",
        "       \"How Californian floods affect US food prices\",\n",
        "       \"Allergy season becoming longer and stronger due to climate change\",\n",
        "       \"Are the climate policy wars finally over?\",\n",
        "       \"Final warning on climate change\",\n",
        "       \"UN climate report: Scientists release survival guide to avert climate disaster\",\n",
        "       \"Climate crisis: New carbon capture method revealed by scientists\",\n",
        "       \"His­toric cli­mate cas­es against gov­ern­ments at Eu­ro­pean court\",\n",
        "       \"Climate change: The place on Earth heating fastest\",\n",
        "       \"Earth currently experiencing a sixth mass extinction, according to scientists\",\n",
        "       \"Climate 101: Deforestation\",\n",
        "       \"Climate change: Are there too many people?\",\n",
        "       \"Are floating solar farms the future of clean energy\",\n",
        "       \"Climate scientists give survival guide for humanity in landmark UN report\",\n",
        "       \"See what three degrees of global warming looks like\",\n",
        "       \"Bangladesh's struggle with flooding\",\n",
        "       \"Faced with climate change, India is leading a resurgence in millet cultivation\",\n",
        "       \"Wind and climate change\",\n",
        "       \"Sky News host mocks Obama’s ‘ridiculous’ climate change claims\",\n",
        "       \"Reversing climate change is still possible but a greater challenge than before, says new UN report\",\n",
        "       \"Who Is Responsible For Climate Change? – Who Needs To Fix It?\",\n",
        "       \"We WILL Fix Climate Change!\",\n",
        "       \"Daily Climate Show: UK 'unprepared' for climate crisis\",\n",
        "       \"Why do people still take fear-mongering climate change doomsday predictions seriously?\",\n",
        "       \"Climate crisis: New carbon capture method revealed by scientists\",\n",
        "       \"Australia's Climate Safeguard Mechanism Explained\",\n",
        "       \"Climate deal struck after Labor and Greens reach safeguard mechanism agreement\",\n",
        "       \"Violent disruptors change the tone of French climate change protests\",\n",
        "       \"Budget has unprecedented clean energy investment, but lacks strategy: climate activist\",\n",
        "       \"These are global climate reports detailing emerging policies and catastrophic weather disasters currently occurring\",\n",
        "       \"How a TikTok ban would or wouldn't work in practice\",\n",
        "       \"Bill Gates AI is most important tech advance in decades\",\n",
        "       \"Bard: Google's rival to ChatGPT launches for over-18s\",\n",
        "       \"Big Tech's big legal headache\",\n",
        "       \"China says it firmly opposes a potential forced sale of TikTok\",\n",
        "       \"Lawmakers say TikTok is a national security threat, but evidence remains unclear\",\n",
        "       \"YouTube restores Donald Trump’s channel\",\n",
        "       \"Google was beloved as an employer for years. Then it laid off thousands by email\",\n",
        "       \"Apple unveils new iPhones, Apple Watches and AirPods\",\n",
        "       \"Apple unveils iPhone 14 at far out event\",\n",
        "       \"Tech giant's new robotaxi with removable steering wheel not legal yet in China\",\n",
        "       \"A robot is killing weeds by zapping them with electricity\",\n",
        "       \"This dairy-tech startup has created a step counter for cows\",\n",
        "       \"An Indian startup could revolutionize ocean farming with its 'sea combine harvester\",\n",
        "       \"See the new Apple Watch Series 8 and Watch Ultra\",\n",
        "       \"How these floating homes might withstand hurricane conditions\",\n",
        "       \"Here's what you need to know about 5G\",\n",
        "       \"Microsoft CEO shares leadership lessons he's learned during the pandemic\",\n",
        "       \"This energy company is combating the climate crisis, one city block at a time\",\n",
        "       \"This AI chatbot is dominating social media with its frighteningly good essays\",\n",
        "        \"AI expert reveals his single greatest fear about the technology\",\n",
        "        \"How will AI change the world?\",\n",
        "        \"iPhone 15 Pro - this CHANGES iPhone FOREVER\",\n",
        "        \"Upcoming Technologies That Will Change the Game\",\n",
        "        \"How does GPT-4 work and how can you start using it in ChatGPT\",\n",
        "        \"TikTok CEO Shou Zi Chew faces off with US legislators in hearing\",\n",
        "        \"Can young robotics fans unite a troubled Libya\",\n",
        "        \"Canada bans TikTok from government devices over security concerns\",\n",
        "        \"Using AI to listen to Jordan’s date palms\",\n",
        "        \"The human cost of ChatGPT\",\n",
        "        \"ChatGPT and the sweatshops powering the digital age\",\n",
        "        \"England counts down to western Europe’s first satellite launch\",\n",
        "        \"Anomaly thwarts UK attempt to put satellites into space\",\n",
        "        \"Artificial intelligence: friend or foe\",\n",
        "        \"US-France satellite to map world’s oceans, rivers, lakes\",\n",
        "        \"NASA says DART spacecraft successfully alters asteroid’s path\",\n",
        "        \"What’s behind US export controls on technology to China\",\n",
        "        \"Egyptian teen creates his own metaverse\",\n",
        "        \"The next (r)evolution: AI vs human intelligence\",\n",
        "        \"Can cryptocurrencies make a comeback\",\n",
        "        \"Mairabot: A student-built robot in Nigeria\",\n",
        "        \"Why Online Publishers Want AI Chatbot Makers Like Google to Pay Up\",\n",
        "        \"What’s going to happen to Big Tech’s laid off workers\",\n",
        "        \"Testing the limits of ChatGPT and discovering a dark side\",\n",
        "        \"Could hologram technology be the future of video calls\",\n",
        "        \"Has Google’s Reluctance in AI Given Microsoft an Edge\",\n",
        "        \"TikTok CEO Testifies On App's China Ties and Security Risks\",\n",
        "        \"Can Microsoft Use ChatGPT and Dall-E 2 to Become an AI Leader\",\n",
        "        \"AI technology may be able to generate our mind’s images\",\n",
        "        \"These headlines detail the formost global technology reports of the era\"\n",
        "       ]\n",
        "print(len(docx))"
      ]
    },
    {
      "cell_type": "code",
      "source": [
        "#to save the documents in docx as a txt file\n",
        "file = open('Task2docx.txt','w')\n",
        "for doc in docx:\n",
        "\tfile.write(doc+\"\\n\")\n",
        "file.close()"
      ],
      "metadata": {
        "id": "eMOKiDoEQ4KP"
      },
      "execution_count": null,
      "outputs": []
    },
    {
      "cell_type": "code",
      "source": [
        "#Removing Punctution from the documents\n",
        "import string\n",
        "new_docx = [\"\".join(punc for punc in sent\n",
        "                     if punc not in string.punctuation)\n",
        "            for sent in docx]\n",
        "\n",
        "print(new_docx)"
      ],
      "metadata": {
        "id": "AtkctllPr0r9"
      },
      "execution_count": null,
      "outputs": []
    },
    {
      "cell_type": "code",
      "source": [
        "#Installing relevant libraries for preprocessing the data\n",
        "\n",
        "import nltk\n",
        "import string\n",
        "nltk.download('punkt')\n",
        "nltk.download('wordnet')\n",
        "nltk.download(\"stopwords\")\n",
        "from nltk.tokenize import sent_tokenize\n",
        "from nltk.tokenize import word_tokenize\n",
        "from nltk.corpus import stopwords\n",
        "from nltk.stem import WordNetLemmatizer\n",
        "Lstem = WordNetLemmatizer()\n",
        "from collections import defaultdict\n",
        "SW = stopwords.words(\"english\")"
      ],
      "metadata": {
        "id": "qiuRGDfcIRoX"
      },
      "execution_count": null,
      "outputs": []
    },
    {
      "cell_type": "code",
      "source": [
        "#@title\n",
        "#Preprocessing the documents\n",
        "#We will Lemmitize instead of Stemming because the words in the documents need to have meaning\n",
        "#Lemmitization will take more time than Stemming but it produces a more accurate result\n",
        "Filt_new_docx = []\n",
        "\n",
        "for sent in new_docx:\n",
        "  toke_doc =  sent_tokenize(sent)\n",
        "  for lem in toke_doc:\n",
        "    lem_words = Lstem.lemmatize(lem) + \" \"\n",
        "    if lem_words not in SW:\n",
        "      stwords = lem_words.lower()\n",
        "    Filt_new_docx.append(stwords)\n",
        "\n",
        "print(Filt_new_docx) #outputs the preprocessed documents\n",
        "print(len(Filt_new_docx)) #outputs the total number of documents\n",
        "type(Filt_new_docx) "
      ],
      "metadata": {
        "id": "6fFll9SFwPsw",
        "cellView": "form"
      },
      "execution_count": null,
      "outputs": []
    },
    {
      "cell_type": "code",
      "source": [
        "#Convert the list of documents into TFIDF format\n",
        "from sklearn.feature_extraction.text import TfidfVectorizer\n",
        "tfid = TfidfVectorizer()\n",
        "X = tfid.fit_transform(Filt_new_docx)\n",
        "print(X.todense())"
      ],
      "metadata": {
        "id": "IODWh5A0O1JW"
      },
      "execution_count": null,
      "outputs": []
    },
    {
      "cell_type": "code",
      "source": [
        "#Fit the K-Means model for training\n",
        "from sklearn.cluster import KMeans\n",
        "tfid_kmodel = KMeans(3)\n",
        "tfid_kmodel.fit(X)\n",
        "\n",
        "#to display the cluster assignment as determined \n",
        "id_clusters = tfid_kmodel.fit_predict(X)\n",
        "id_clusters"
      ],
      "metadata": {
        "id": "F80n_aVfPAb0"
      },
      "execution_count": null,
      "outputs": []
    },
    {
      "cell_type": "code",
      "source": [
        "#importing Libraries for scatterplot of model predictions\n",
        "import matplotlib.pyplot as plt\n",
        "from sklearn.decomposition import PCA\n",
        "from sklearn.decomposition import TruncatedSVD\n",
        "import seaborn as sns\n",
        "import numpy as np"
      ],
      "metadata": {
        "id": "MzuBKCYgGuIU"
      },
      "execution_count": 7,
      "outputs": []
    },
    {
      "cell_type": "code",
      "source": [
        "#plottiing the scatter plot\n",
        "pca = PCA(n_components=2)\n",
        "clf = TruncatedSVD(100)\n",
        "visuals = clf.fit_transform(X)\n",
        "plt.title(\"KMeans Document Clustering ScatterPlot\")\n",
        "plt.scatter(x=visuals[:,0], y=visuals[:,1], c=id_clusters)\n",
        "plt.show()"
      ],
      "metadata": {
        "id": "2sGeESvtGscy"
      },
      "execution_count": null,
      "outputs": []
    },
    {
      "cell_type": "code",
      "source": [
        "#Initialize and clean testing data then fit into model\n",
        "\n",
        "test_docx = [\"football and soccer are sports\",\n",
        "             \"Climate - change - affects the weather\",\n",
        "             \"Technology is the way forward\",\n",
        "             \"she is on her way\",\n",
        "             \"MANCHESTER UNITED PLAYERS HAVE GATHERED ON THE FIELD\"\n",
        "           ]\n",
        "\n",
        "Filt_test_docx = []\n",
        "\n",
        "for sent in test_docx:\n",
        "  toke_doc =  sent_tokenize(sent)\n",
        "  for lem in toke_doc:\n",
        "    lem_words = Lstem.lemmatize(lem)\n",
        "    if lem_words not in SW and string.punctuation:\n",
        "      st_words = lem_words.lower()\n",
        "    Filt_test_docx.append(st_words)\n",
        "\n",
        "print(Filt_test_docx)\n",
        "\n",
        "y_test = tfid.transform([Filt_test_docx[0]])\n",
        "pred = tfid_kmodel.predict(y_test)\n",
        "print(pred)\n",
        "\n",
        "y_test = tfid.transform([Filt_test_docx[1]])\n",
        "pred = tfid_kmodel.predict(y_test)\n",
        "print(pred)\n",
        "\n",
        "y_test = tfid.transform([Filt_test_docx[2]])\n",
        "pred = tfid_kmodel.predict(y_test)\n",
        "print(pred)\n",
        "\n",
        "y_test = tfid.transform([Filt_test_docx[3]])\n",
        "pred = tfid_kmodel.predict(y_test)\n",
        "print(pred)\n",
        "\n",
        "y_test = tfid.transform([Filt_test_docx[4]])\n",
        "pred = tfid_kmodel.predict(y_test)\n",
        "print(pred)"
      ],
      "metadata": {
        "id": "7lsCl7PWPWZ7"
      },
      "execution_count": null,
      "outputs": []
    }
  ]
}